{
 "cells": [
  {
   "cell_type": "markdown",
   "metadata": {},
   "source": [
    "<p>Recall the \"Yahoo Finance Scrapping\" demo in Lesson 1, let's simplify the program into the following steps</p>\n",
    "<p>1. Give configuration of ticker</p>\n",
    "<p>2. Capture data from Yahoo Finance</p>\n",
    "<p>3. Store data into Excel File</p>\n",
    "\n",
    "<p>I will guide you through the normal process in readlity instead of just copy and paste the code</p>"
   ]
  },
  {
   "cell_type": "markdown",
   "metadata": {},
   "source": [
    "<h2>1. Human simulation for going to desire page</h2>\n",
    "<p>Lets' naviagte to https://finance.yahoo.com/</p>\n",
    "<p>We should discover there are at least two ways to get to the desire page</p>\n",
    "<p>1. </p>\n",
    "<p>2. </p>\n",
    "\n",
    "<p>Now inspect the element you want to see if anything strange</p>"
   ]
  },
  {
   "cell_type": "markdown",
   "metadata": {},
   "source": [
    "<h2>2. Program the way you like the user to get to the page</h2>"
   ]
  },
  {
   "cell_type": "code",
   "execution_count": null,
   "metadata": {
    "collapsed": false
   },
   "outputs": [],
   "source": [
    "#get the ticker variable"
   ]
  },
  {
   "cell_type": "code",
   "execution_count": null,
   "metadata": {
    "collapsed": true
   },
   "outputs": [],
   "source": [
    "#Navigate to the page"
   ]
  },
  {
   "cell_type": "markdown",
   "metadata": {},
   "source": [
    "<h2>3. Program the way you want to capture data</h2>"
   ]
  },
  {
   "cell_type": "code",
   "execution_count": null,
   "metadata": {
    "collapsed": true
   },
   "outputs": [],
   "source": []
  },
  {
   "cell_type": "markdown",
   "metadata": {},
   "source": [
    "<h2>4. Save the data into Excel</h2>"
   ]
  },
  {
   "cell_type": "code",
   "execution_count": null,
   "metadata": {
    "collapsed": true
   },
   "outputs": [],
   "source": []
  }
 ],
 "metadata": {
  "kernelspec": {
   "display_name": "Python [Root]",
   "language": "python",
   "name": "Python [Root]"
  },
  "language_info": {
   "codemirror_mode": {
    "name": "ipython",
    "version": 3
   },
   "file_extension": ".py",
   "mimetype": "text/x-python",
   "name": "python",
   "nbconvert_exporter": "python",
   "pygments_lexer": "ipython3",
   "version": "3.5.2"
  }
 },
 "nbformat": 4,
 "nbformat_minor": 2
}
