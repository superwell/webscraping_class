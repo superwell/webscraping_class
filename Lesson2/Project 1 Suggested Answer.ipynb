{
 "cells": [
  {
   "cell_type": "code",
   "execution_count": 42,
   "metadata": {
    "collapsed": true
   },
   "outputs": [],
   "source": [
    "from selenium import webdriver\n",
    "import pandas as pd\n",
    "import os"
   ]
  },
  {
   "cell_type": "code",
   "execution_count": 43,
   "metadata": {
    "collapsed": true
   },
   "outputs": [],
   "source": [
    "def get_ticker():\n",
    "    ticker = input(\"What ticker? \")\n",
    "    return ticker\n",
    "\n",
    "def navigate_to_hist(ticker):\n",
    "    driver = webdriver.Chrome(executable_path='/Users/haha1994/Desktop/Techvalley/WebScraping/Lesson2/chromedriver')\n",
    "    url = 'https://finance.yahoo.com/quote/{}.HK/history?p={}.HK'.format(ticker, ticker)\n",
    "    driver.get(url)\n",
    "    return driver\n",
    "\n",
    "def get_data(driver):\n",
    "    table = driver.find_element_by_xpath('//*[@id=\"Col1-1-HistoricalDataTable-Proxy\"]/section/div[2]/table/tbody')\n",
    "    rows = table.text.split(\"\\n\")\n",
    "    data = []\n",
    "    for row in rows:\n",
    "        if \"Dividend\" not in row:\n",
    "            data.append(row.split(\" \"))\n",
    "    header = [\"Month\", \"Day\", \"Year\", \"Open\", \"High\",\"Low\", \"Close\", \"Adj Close\", \"Volume\"]\n",
    "    df = pd.DataFrame(data, columns = header)\n",
    "    return df\n",
    "\n",
    "def save_data_to_excel(df, ticker):\n",
    "    directory = \"/Users/haha1994/Desktop/Techvalley/WebScraping/Lesson2\"\n",
    "    filename = \"{}.xlsx\".format(ticker)\n",
    "    full_path = os.path.join(directory, filename)\n",
    "    \n",
    "    df.to_excel(full_path)"
   ]
  },
  {
   "cell_type": "code",
   "execution_count": 13,
   "metadata": {
    "collapsed": false
   },
   "outputs": [
    {
     "name": "stdout",
     "output_type": "stream",
     "text": [
      "What ticker? 0005\n"
     ]
    }
   ],
   "source": [
    "ticker = get_ticker()"
   ]
  },
  {
   "cell_type": "code",
   "execution_count": 17,
   "metadata": {
    "collapsed": false
   },
   "outputs": [],
   "source": [
    "driver = navigate_to_hist(ticker)"
   ]
  },
  {
   "cell_type": "code",
   "execution_count": 40,
   "metadata": {
    "collapsed": false
   },
   "outputs": [],
   "source": [
    "data = get_data(driver)"
   ]
  },
  {
   "cell_type": "code",
   "execution_count": 41,
   "metadata": {
    "collapsed": false
   },
   "outputs": [
    {
     "data": {
      "text/html": [
       "<div>\n",
       "<table border=\"1\" class=\"dataframe\">\n",
       "  <thead>\n",
       "    <tr style=\"text-align: right;\">\n",
       "      <th></th>\n",
       "      <th>Month</th>\n",
       "      <th>Day</th>\n",
       "      <th>Year</th>\n",
       "      <th>Open</th>\n",
       "      <th>High</th>\n",
       "      <th>Low</th>\n",
       "      <th>Close</th>\n",
       "      <th>Adj Close</th>\n",
       "      <th>Volume</th>\n",
       "    </tr>\n",
       "  </thead>\n",
       "  <tbody>\n",
       "    <tr>\n",
       "      <th>0</th>\n",
       "      <td>May</td>\n",
       "      <td>31,</td>\n",
       "      <td>2019</td>\n",
       "      <td>64.500</td>\n",
       "      <td>64.650</td>\n",
       "      <td>64.000</td>\n",
       "      <td>64.050</td>\n",
       "      <td>64.050</td>\n",
       "      <td>16,537,962</td>\n",
       "    </tr>\n",
       "    <tr>\n",
       "      <th>1</th>\n",
       "      <td>May</td>\n",
       "      <td>30,</td>\n",
       "      <td>2019</td>\n",
       "      <td>64.800</td>\n",
       "      <td>65.000</td>\n",
       "      <td>64.450</td>\n",
       "      <td>64.500</td>\n",
       "      <td>64.500</td>\n",
       "      <td>17,349,231</td>\n",
       "    </tr>\n",
       "    <tr>\n",
       "      <th>2</th>\n",
       "      <td>May</td>\n",
       "      <td>29,</td>\n",
       "      <td>2019</td>\n",
       "      <td>65.000</td>\n",
       "      <td>65.400</td>\n",
       "      <td>64.850</td>\n",
       "      <td>64.850</td>\n",
       "      <td>64.850</td>\n",
       "      <td>12,597,856</td>\n",
       "    </tr>\n",
       "    <tr>\n",
       "      <th>3</th>\n",
       "      <td>May</td>\n",
       "      <td>28,</td>\n",
       "      <td>2019</td>\n",
       "      <td>65.150</td>\n",
       "      <td>65.500</td>\n",
       "      <td>65.150</td>\n",
       "      <td>65.450</td>\n",
       "      <td>65.450</td>\n",
       "      <td>7,627,167</td>\n",
       "    </tr>\n",
       "    <tr>\n",
       "      <th>4</th>\n",
       "      <td>May</td>\n",
       "      <td>27,</td>\n",
       "      <td>2019</td>\n",
       "      <td>65.500</td>\n",
       "      <td>65.650</td>\n",
       "      <td>65.350</td>\n",
       "      <td>65.450</td>\n",
       "      <td>65.450</td>\n",
       "      <td>8,537,156</td>\n",
       "    </tr>\n",
       "  </tbody>\n",
       "</table>\n",
       "</div>"
      ],
      "text/plain": [
       "  Month  Day  Year    Open    High     Low   Close Adj Close      Volume\n",
       "0   May  31,  2019  64.500  64.650  64.000  64.050    64.050  16,537,962\n",
       "1   May  30,  2019  64.800  65.000  64.450  64.500    64.500  17,349,231\n",
       "2   May  29,  2019  65.000  65.400  64.850  64.850    64.850  12,597,856\n",
       "3   May  28,  2019  65.150  65.500  65.150  65.450    65.450   7,627,167\n",
       "4   May  27,  2019  65.500  65.650  65.350  65.450    65.450   8,537,156"
      ]
     },
     "execution_count": 41,
     "metadata": {},
     "output_type": "execute_result"
    }
   ],
   "source": [
    "data.head()"
   ]
  },
  {
   "cell_type": "code",
   "execution_count": 44,
   "metadata": {
    "collapsed": false
   },
   "outputs": [],
   "source": [
    "save_data_to_excel(data, ticker)"
   ]
  },
  {
   "cell_type": "code",
   "execution_count": null,
   "metadata": {
    "collapsed": true
   },
   "outputs": [],
   "source": []
  }
 ],
 "metadata": {
  "kernelspec": {
   "display_name": "Python [Root]",
   "language": "python",
   "name": "Python [Root]"
  },
  "language_info": {
   "codemirror_mode": {
    "name": "ipython",
    "version": 3
   },
   "file_extension": ".py",
   "mimetype": "text/x-python",
   "name": "python",
   "nbconvert_exporter": "python",
   "pygments_lexer": "ipython3",
   "version": "3.5.2"
  }
 },
 "nbformat": 4,
 "nbformat_minor": 2
}
