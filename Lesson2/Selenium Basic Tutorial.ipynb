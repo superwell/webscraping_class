{
 "cells": [
  {
   "cell_type": "markdown",
   "metadata": {},
   "source": [
    "<p>This guide will introduce all common basic functions used when using Selenium for web scraping</p>\n",
    "<p>The following is a content list of the functions</p>\n",
    "<p>1. Import Libraries</p>\n",
    "<p>2. Start Driver Session</p>\n",
    "<p>3. Navigate to a URL</p>\n",
    "<p>4. Title Attribute</p>\n",
    "<p>5. Find Single Element</p>\n",
    "<p>6. Find URL of element</p>\n",
    "<p>7. Using sub-element</p>\n",
    "<p>8. Finding multiple elements</p>\n",
    "<p>9. Back to Last Page</p>\n",
    "<p>10. Opening new tab</p>\n",
    "<p>11. Switching Tabs</p>\n",
    "<p>12. Close Tab</p>\n",
    "<p>13. Take Screenshot for the current page</p>\n"
   ]
  },
  {
   "cell_type": "markdown",
   "metadata": {},
   "source": [
    "<h2>1.Import Libraries</h2>\n",
    "<p>Always remember to import the libraries</p>"
   ]
  },
  {
   "cell_type": "code",
   "execution_count": 1,
   "metadata": {
    "collapsed": true
   },
   "outputs": [],
   "source": [
    "from selenium import webdriver"
   ]
  },
  {
   "cell_type": "markdown",
   "metadata": {},
   "source": [
    "<h2>2. Start Driver Session</h2>\n",
    "<p>Remember to give the executable path of the Chrome driver, otherwise you may run into error when running this application in other directory</p>"
   ]
  },
  {
   "cell_type": "code",
   "execution_count": 3,
   "metadata": {
    "collapsed": false
   },
   "outputs": [],
   "source": [
    "driver = webdriver.Chrome(executable_path='/Users/haha1994/Desktop/Techvalley/WebScraping/Lesson2/chromedriver')"
   ]
  },
  {
   "cell_type": "markdown",
   "metadata": {},
   "source": [
    "<h2>3. Navigate to a URL</h2>"
   ]
  },
  {
   "cell_type": "code",
   "execution_count": 4,
   "metadata": {
    "collapsed": true
   },
   "outputs": [],
   "source": [
    "driver.get(\"https://finance.yahoo.com/quote/0388.HK/\")"
   ]
  },
  {
   "cell_type": "markdown",
   "metadata": {},
   "source": [
    "<h2>4. Title Attribute</h2>\n",
    "<p>This attribute allow you to ensure you are at the correct page</p>"
   ]
  },
  {
   "cell_type": "code",
   "execution_count": 5,
   "metadata": {
    "collapsed": false
   },
   "outputs": [
    {
     "name": "stdout",
     "output_type": "stream",
     "text": [
      "0388.HK 249.400 -2.200 -0.87% : HKEX - Yahoo Finance\n"
     ]
    }
   ],
   "source": [
    "print(driver.title)"
   ]
  },
  {
   "cell_type": "markdown",
   "metadata": {},
   "source": [
    "<h2>5. Find Single Element</h2>\n",
    "<p>There are multiple ways for selenium to find the element. The following are the commonly used functions</p>\n",
    "<p>1. Xpath</p>\n",
    "<p>2. Tag Name</p>\n",
    "<p>3. Class Name</p>\n",
    "<p>4. ID</p>\n",
    "\n",
    "<p>There is no absolute best one since each site designed in a different way. Generally, Xpath is the most universal function which is a positional way to find an element</p>"
   ]
  },
  {
   "cell_type": "code",
   "execution_count": 8,
   "metadata": {
    "collapsed": false
   },
   "outputs": [
    {
     "name": "stdout",
     "output_type": "stream",
     "text": [
      "4,697,839\n"
     ]
    }
   ],
   "source": [
    "xpath_element = driver.find_element_by_xpath('//*[@id=\"quote-summary\"]/div[1]/table/tbody/tr[8]/td[2]/span')\n",
    "print(xpath_element.text)"
   ]
  },
  {
   "cell_type": "code",
   "execution_count": 13,
   "metadata": {
    "collapsed": false
   },
   "outputs": [
    {
     "name": "stdout",
     "output_type": "stream",
     "text": [
      "Home\n",
      "https://www.yahoo.com/\n"
     ]
    }
   ],
   "source": [
    "tagname_element = driver.find_element_by_tag_name(\"a\")\n",
    "print(tagname_element.text)\n",
    "print(tagname_element.get_attribute(\"href\"))"
   ]
  },
  {
   "cell_type": "code",
   "execution_count": 16,
   "metadata": {
    "collapsed": false
   },
   "outputs": [
    {
     "name": "stdout",
     "output_type": "stream",
     "text": [
      "Finance Home\n",
      "https://finance.yahoo.com/\n"
     ]
    }
   ],
   "source": [
    "classname_element = driver.find_element_by_class_name('nr-applet-nav-item')\n",
    "print(classname_element.text)\n",
    "print(classname_element.get_attribute('href'))"
   ]
  },
  {
   "cell_type": "code",
   "execution_count": 17,
   "metadata": {
    "collapsed": false
   },
   "outputs": [
    {
     "name": "stdout",
     "output_type": "stream",
     "text": [
      "Hong Kong Exchanges and Clearing Limited (0388.HK)\n",
      "HKSE - HKSE Delayed Price. Currency in HKD\n",
      "Add to watchlist\n",
      "249.400-2.200 (-0.87%)\n",
      "At close: May 31 4:08PM HKT\n"
     ]
    }
   ],
   "source": [
    "id_element = driver.find_element_by_id('quote-header-info')\n",
    "print(id_element.text)"
   ]
  },
  {
   "cell_type": "markdown",
   "metadata": {},
   "source": [
    "<h2>6. Find URL of element</h2>\n",
    "<p>You will find the URL from the href attribute of a web element</p>"
   ]
  },
  {
   "cell_type": "code",
   "execution_count": 19,
   "metadata": {
    "collapsed": false
   },
   "outputs": [
    {
     "name": "stdout",
     "output_type": "stream",
     "text": [
      "https://finance.yahoo.com/\n"
     ]
    }
   ],
   "source": [
    "classname_element = driver.find_element_by_class_name('nr-applet-nav-item')\n",
    "print(classname_element.get_attribute('href'))"
   ]
  },
  {
   "cell_type": "markdown",
   "metadata": {},
   "source": [
    "<h2>7. Using sub-element</h2>\n",
    "<p>Sometimes, you will find the website creator repeat themselves with the same classname or even id. You can always narrow down the session you would like to captured by first storing a parent element to memory and find element inside the parent element</p>"
   ]
  },
  {
   "cell_type": "code",
   "execution_count": 26,
   "metadata": {
    "collapsed": false
   },
   "outputs": [
    {
     "name": "stdout",
     "output_type": "stream",
     "text": [
      "Hong Kong Exchanges and Clearing Limited (0388.HK)\n",
      "HKSE - HKSE Delayed Price. Currency in HKD\n",
      "Add to watchlist\n",
      "249.400-2.200 (-0.87%)\n",
      "At close: May 31 4:08PM HKT\n"
     ]
    }
   ],
   "source": [
    "banner_info = id_element = driver.find_element_by_id('quote-header-info')\n",
    "print(banner_info.text)"
   ]
  },
  {
   "cell_type": "code",
   "execution_count": 45,
   "metadata": {
    "collapsed": false
   },
   "outputs": [
    {
     "data": {
      "text/plain": [
       "'Hong Kong Exchanges and Clearing Limited (0388.HK)\\nHKSE - HKSE Delayed Price. Currency in HKD'"
      ]
     },
     "execution_count": 45,
     "metadata": {},
     "output_type": "execute_result"
    }
   ],
   "source": [
    "first_line = banner_info.find_element_by_xpath(\"//*[@class='D(ib) Mt(-5px) Mend(20px) Maw(56%)--tab768 Maw(52%) Ov(h) smartphone_Maw(85%) smartphone_Mend(0px)']\")\n",
    "first_line.text"
   ]
  },
  {
   "cell_type": "markdown",
   "metadata": {},
   "source": [
    "<h2>8. Finding multiple elements</h2>\n",
    "<p>Just modify \"find_element\" to \"find_elements\" in the find function, Selenium will find all the element that match the criteria and return a iterable Python List</p>"
   ]
  },
  {
   "cell_type": "code",
   "execution_count": 47,
   "metadata": {
    "collapsed": false
   },
   "outputs": [],
   "source": [
    "top_tabs = driver.find_elements_by_class_name(\"nr-applet-nav-item\")"
   ]
  },
  {
   "cell_type": "code",
   "execution_count": 49,
   "metadata": {
    "collapsed": false
   },
   "outputs": [
    {
     "name": "stdout",
     "output_type": "stream",
     "text": [
      "28\n"
     ]
    },
    {
     "data": {
      "text/plain": [
       "[<selenium.webdriver.remote.webelement.WebElement (session=\"e39f78d61264f7fc1afd6538b7fdd6e0\", element=\"0.6944154944271981-3\")>,\n",
       " <selenium.webdriver.remote.webelement.WebElement (session=\"e39f78d61264f7fc1afd6538b7fdd6e0\", element=\"0.6944154944271981-6\")>,\n",
       " <selenium.webdriver.remote.webelement.WebElement (session=\"e39f78d61264f7fc1afd6538b7fdd6e0\", element=\"0.6944154944271981-7\")>,\n",
       " <selenium.webdriver.remote.webelement.WebElement (session=\"e39f78d61264f7fc1afd6538b7fdd6e0\", element=\"0.6944154944271981-8\")>,\n",
       " <selenium.webdriver.remote.webelement.WebElement (session=\"e39f78d61264f7fc1afd6538b7fdd6e0\", element=\"0.6944154944271981-9\")>]"
      ]
     },
     "execution_count": 49,
     "metadata": {},
     "output_type": "execute_result"
    }
   ],
   "source": [
    "print(len(top_tabs))\n",
    "top_tabs[:5]"
   ]
  },
  {
   "cell_type": "code",
   "execution_count": 50,
   "metadata": {
    "collapsed": false
   },
   "outputs": [
    {
     "name": "stdout",
     "output_type": "stream",
     "text": [
      "Finance Home\n",
      "Watchlists\n",
      "My Portfolio\n",
      "Screeners\n",
      "Markets\n",
      "Industries\n",
      "Videos\n",
      "\n",
      "\n",
      "\n",
      "\n",
      "\n",
      "\n",
      "\n",
      "\n",
      "\n",
      "\n",
      "\n",
      "\n",
      "\n",
      "\n",
      "\n",
      "\n",
      "\n",
      "\n",
      "News\n",
      "\n",
      "\n"
     ]
    }
   ],
   "source": [
    "for i in top_tabs:\n",
    "    print(i.text)"
   ]
  },
  {
   "cell_type": "markdown",
   "metadata": {},
   "source": [
    "<h2>9. Back to Last Page</h2>"
   ]
  },
  {
   "cell_type": "code",
   "execution_count": 51,
   "metadata": {
    "collapsed": true
   },
   "outputs": [],
   "source": [
    "driver.back()"
   ]
  },
  {
   "cell_type": "markdown",
   "metadata": {},
   "source": [
    "<h2>10. Opening new tab</h2>"
   ]
  },
  {
   "cell_type": "code",
   "execution_count": 53,
   "metadata": {
    "collapsed": true
   },
   "outputs": [],
   "source": [
    "driver.execute_script(\"window.open('https://finance.yahoo.com/quote/0005.HK/');\")"
   ]
  },
  {
   "cell_type": "markdown",
   "metadata": {},
   "source": [
    "<h2>11. Switching Tabs</h2>"
   ]
  },
  {
   "cell_type": "code",
   "execution_count": 57,
   "metadata": {
    "collapsed": false
   },
   "outputs": [
    {
     "name": "stdout",
     "output_type": "stream",
     "text": [
      "2\n",
      "0005.HK 64.050 -0.450 -0.70% : HSBC HOLDINGS - Yahoo Finance\n",
      "-----------------\n",
      "0388.HK 249.400 -2.200 -0.87% : HKEX - Yahoo Finance\n"
     ]
    }
   ],
   "source": [
    "print(len(driver.window_handles))\n",
    "print(driver.title)\n",
    "driver.switch_to.window(driver.window_handles[0])\n",
    "print(\"-----------------\")\n",
    "print(driver.title)"
   ]
  },
  {
   "cell_type": "markdown",
   "metadata": {},
   "source": [
    "<h2>12. Close Tab</h2>"
   ]
  },
  {
   "cell_type": "code",
   "execution_count": 58,
   "metadata": {
    "collapsed": true
   },
   "outputs": [],
   "source": [
    "driver.close()"
   ]
  },
  {
   "cell_type": "markdown",
   "metadata": {},
   "source": [
    "<h2>13. Take Screenshot for the current page</h2>"
   ]
  },
  {
   "cell_type": "code",
   "execution_count": 60,
   "metadata": {
    "collapsed": false
   },
   "outputs": [
    {
     "data": {
      "text/plain": [
       "True"
      ]
     },
     "execution_count": 60,
     "metadata": {},
     "output_type": "execute_result"
    }
   ],
   "source": [
    "driver.switch_to.window(driver.window_handles[0])\n",
    "driver.save_screenshot(\"stock.png\")"
   ]
  },
  {
   "cell_type": "code",
   "execution_count": null,
   "metadata": {
    "collapsed": true
   },
   "outputs": [],
   "source": []
  }
 ],
 "metadata": {
  "anaconda-cloud": {},
  "kernelspec": {
   "display_name": "Python [Root]",
   "language": "python",
   "name": "Python [Root]"
  },
  "language_info": {
   "codemirror_mode": {
    "name": "ipython",
    "version": 3
   },
   "file_extension": ".py",
   "mimetype": "text/x-python",
   "name": "python",
   "nbconvert_exporter": "python",
   "pygments_lexer": "ipython3",
   "version": "3.5.2"
  }
 },
 "nbformat": 4,
 "nbformat_minor": 2
}
