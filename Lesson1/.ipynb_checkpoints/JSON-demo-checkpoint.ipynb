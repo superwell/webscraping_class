{
 "cells": [
  {
   "cell_type": "markdown",
   "metadata": {},
   "source": [
    "<h1>JSON Standard Library</h1>\n",
    "<h2>Load JSON</h2>"
   ]
  },
  {
   "cell_type": "code",
   "execution_count": 1,
   "metadata": {
    "collapsed": true
   },
   "outputs": [],
   "source": [
    "import json"
   ]
  },
  {
   "cell_type": "code",
   "execution_count": 17,
   "metadata": {
    "collapsed": true
   },
   "outputs": [],
   "source": [
    "with open(\"sample_json_data/0001_5years.json\") as f:\n",
    "    data = json.load(f)"
   ]
  },
  {
   "cell_type": "code",
   "execution_count": 18,
   "metadata": {
    "collapsed": false
   },
   "outputs": [
    {
     "data": {
      "text/plain": [
       "[{'Adj Close': 68.0,\n",
       "  'Close': 68.099998,\n",
       "  'Date': '2018-10-10',\n",
       "  'High': 68.449997,\n",
       "  'Low': 67.550003,\n",
       "  'Open': 67.550003,\n",
       "  'Ticker': 5,\n",
       "  'Volume': 22435246},\n",
       " {'Adj Close': 66.050003,\n",
       "  'Close': 66.050003,\n",
       "  'Date': '2018-10-11',\n",
       "  'High': 66.75,\n",
       "  'Low': 66.0,\n",
       "  'Open': 66.5,\n",
       "  'Ticker': 5,\n",
       "  'Volume': 39115421},\n",
       " {'Adj Close': 66.050003,\n",
       "  'Close': 66.050003,\n",
       "  'Date': '2018-10-12',\n",
       "  'High': 66.349998,\n",
       "  'Low': 65.349998,\n",
       "  'Open': 65.550003,\n",
       "  'Ticker': 5,\n",
       "  'Volume': 39363868},\n",
       " {'Adj Close': 64.75,\n",
       "  'Close': 64.75,\n",
       "  'Date': '2018-10-15',\n",
       "  'High': 65.449997,\n",
       "  'Low': 64.699997,\n",
       "  'Open': 65.400002,\n",
       "  'Ticker': 5,\n",
       "  'Volume': 39686626},\n",
       " {'Adj Close': 64.800003,\n",
       "  'Close': 64.800003,\n",
       "  'Date': '2018-10-16',\n",
       "  'High': 65.400002,\n",
       "  'Low': 64.599998,\n",
       "  'Open': 65.199997,\n",
       "  'Ticker': 5,\n",
       "  'Volume': 18497061},\n",
       " {'Adj Close': 64.550003,\n",
       "  'Close': 64.550003,\n",
       "  'Date': '2018-10-18',\n",
       "  'High': 64.800003,\n",
       "  'Low': 64.050003,\n",
       "  'Open': 64.800003,\n",
       "  'Ticker': 5,\n",
       "  'Volume': 26780608},\n",
       " {'Adj Close': 63.849998,\n",
       "  'Close': 63.849998,\n",
       "  'Date': '2018-10-19',\n",
       "  'High': 64.099998,\n",
       "  'Low': 63.099998,\n",
       "  'Open': 63.349998,\n",
       "  'Ticker': 5,\n",
       "  'Volume': 46898041},\n",
       " {'Adj Close': 64.349998,\n",
       "  'Close': 64.349998,\n",
       "  'Date': '2018-10-22',\n",
       "  'High': 64.400002,\n",
       "  'Low': 63.450001,\n",
       "  'Open': 63.549999,\n",
       "  'Ticker': 5,\n",
       "  'Volume': 26273240},\n",
       " {'Adj Close': 62.400002,\n",
       "  'Close': 62.400002,\n",
       "  'Date': '2018-10-23',\n",
       "  'High': 63.450001,\n",
       "  'Low': 62.400002,\n",
       "  'Open': 63.450001,\n",
       "  'Ticker': 5,\n",
       "  'Volume': 42301510},\n",
       " {'Adj Close': 61.599998,\n",
       "  'Close': 61.599998,\n",
       "  'Date': '2018-10-24',\n",
       "  'High': 62.549999,\n",
       "  'Low': 61.549999,\n",
       "  'Open': 62.049999,\n",
       "  'Ticker': 5,\n",
       "  'Volume': 35346106},\n",
       " {'Adj Close': 61.049999,\n",
       "  'Close': 61.049999,\n",
       "  'Date': '2018-10-25',\n",
       "  'High': 61.200001,\n",
       "  'Low': 60.400002,\n",
       "  'Open': 60.5,\n",
       "  'Ticker': 5,\n",
       "  'Volume': 38075667},\n",
       " {'Adj Close': 60.5,\n",
       "  'Close': 60.5,\n",
       "  'Date': '2018-10-26',\n",
       "  'High': 61.150002,\n",
       "  'Low': 60.349998,\n",
       "  'Open': 60.900002,\n",
       "  'Ticker': 5,\n",
       "  'Volume': 27990146},\n",
       " {'Adj Close': 63.549999,\n",
       "  'Close': 63.549999,\n",
       "  'Date': '2018-10-29',\n",
       "  'High': 64.0,\n",
       "  'Low': 60.650002,\n",
       "  'Open': 60.849998,\n",
       "  'Ticker': 5,\n",
       "  'Volume': 64952327},\n",
       " {'Adj Close': 63.150002,\n",
       "  'Close': 63.150002,\n",
       "  'Date': '2018-10-30',\n",
       "  'High': 64.0,\n",
       "  'Low': 63.049999,\n",
       "  'Open': 63.400002,\n",
       "  'Ticker': 5,\n",
       "  'Volume': 27445301},\n",
       " {'Adj Close': 64.400002,\n",
       "  'Close': 64.400002,\n",
       "  'Date': '2018-10-31',\n",
       "  'High': 64.400002,\n",
       "  'Low': 63.450001,\n",
       "  'Open': 63.5,\n",
       "  'Ticker': 5,\n",
       "  'Volume': 22025848},\n",
       " {'Adj Close': 65.050003,\n",
       "  'Close': 65.050003,\n",
       "  'Date': '2018-11-01',\n",
       "  'High': 65.400002,\n",
       "  'Low': 64.449997,\n",
       "  'Open': 64.5,\n",
       "  'Ticker': 5,\n",
       "  'Volume': 21014129},\n",
       " {'Adj Close': 66.400002,\n",
       "  'Close': 66.400002,\n",
       "  'Date': '2018-11-02',\n",
       "  'High': 66.75,\n",
       "  'Low': 65.300003,\n",
       "  'Open': 65.5,\n",
       "  'Ticker': 5,\n",
       "  'Volume': 43633166},\n",
       " {'Adj Close': 65.5,\n",
       "  'Close': 65.5,\n",
       "  'Date': '2018-11-05',\n",
       "  'High': 65.699997,\n",
       "  'Low': 65.099998,\n",
       "  'Open': 65.400002,\n",
       "  'Ticker': 5,\n",
       "  'Volume': 17100904},\n",
       " {'Adj Close': 66.050003,\n",
       "  'Close': 66.050003,\n",
       "  'Date': '2018-11-06',\n",
       "  'High': 66.449997,\n",
       "  'Low': 65.349998,\n",
       "  'Open': 65.75,\n",
       "  'Ticker': 5,\n",
       "  'Volume': 19930868},\n",
       " {'Adj Close': 65.949997,\n",
       "  'Close': 65.949997,\n",
       "  'Date': '2018-11-07',\n",
       "  'High': 66.650002,\n",
       "  'Low': 65.599998,\n",
       "  'Open': 65.650002,\n",
       "  'Ticker': 5,\n",
       "  'Volume': 25492921},\n",
       " {'Adj Close': 65.900002,\n",
       "  'Close': 65.900002,\n",
       "  'Date': '2018-11-08',\n",
       "  'High': 66.449997,\n",
       "  'Low': 65.75,\n",
       "  'Open': 66.199997,\n",
       "  'Ticker': 5,\n",
       "  'Volume': 13072384},\n",
       " {'Adj Close': 64.650002,\n",
       "  'Close': 64.650002,\n",
       "  'Date': '2018-11-09',\n",
       "  'High': 65.75,\n",
       "  'Low': 64.650002,\n",
       "  'Open': 65.5,\n",
       "  'Ticker': 5,\n",
       "  'Volume': 17284987}]"
      ]
     },
     "execution_count": 18,
     "metadata": {},
     "output_type": "execute_result"
    }
   ],
   "source": [
    "data"
   ]
  },
  {
   "cell_type": "code",
   "execution_count": 19,
   "metadata": {
    "collapsed": false
   },
   "outputs": [
    {
     "data": {
      "text/plain": [
       "{'Adj Close': 68.0,\n",
       " 'Close': 68.099998,\n",
       " 'Date': '2018-10-10',\n",
       " 'High': 68.449997,\n",
       " 'Low': 67.550003,\n",
       " 'Open': 67.550003,\n",
       " 'Ticker': 5,\n",
       " 'Volume': 22435246}"
      ]
     },
     "execution_count": 19,
     "metadata": {},
     "output_type": "execute_result"
    }
   ],
   "source": [
    "data[0]"
   ]
  },
  {
   "cell_type": "code",
   "execution_count": 20,
   "metadata": {
    "collapsed": true
   },
   "outputs": [],
   "source": [
    "my_list = []\n",
    "with open(\"sample_json_data/0003_5years.json\") as f:\n",
    "    for line in f.readlines():\n",
    "        my_list.append(json.loads(line))"
   ]
  },
  {
   "cell_type": "code",
   "execution_count": 21,
   "metadata": {
    "collapsed": false
   },
   "outputs": [
    {
     "data": {
      "text/plain": [
       "[{'Adj Close': 68.0,\n",
       "  'Close': 68.099998,\n",
       "  'Date': '2018-10-10',\n",
       "  'High': 68.449997,\n",
       "  'Low': 67.550003,\n",
       "  'Open': 67.550003,\n",
       "  'Ticker': 5,\n",
       "  'Volume': 22435246},\n",
       " {'Adj Close': 66.050003,\n",
       "  'Close': 66.050003,\n",
       "  'Date': '2018-10-11',\n",
       "  'High': 66.75,\n",
       "  'Low': 66.0,\n",
       "  'Open': 66.5,\n",
       "  'Ticker': 5,\n",
       "  'Volume': 39115421},\n",
       " {'Adj Close': 66.050003,\n",
       "  'Close': 66.050003,\n",
       "  'Date': '2018-10-12',\n",
       "  'High': 66.349998,\n",
       "  'Low': 65.349998,\n",
       "  'Open': 65.550003,\n",
       "  'Ticker': 5,\n",
       "  'Volume': 39363868},\n",
       " {'Adj Close': 64.75,\n",
       "  'Close': 64.75,\n",
       "  'Date': '2018-10-15',\n",
       "  'High': 65.449997,\n",
       "  'Low': 64.699997,\n",
       "  'Open': 65.400002,\n",
       "  'Ticker': 5,\n",
       "  'Volume': 39686626},\n",
       " {'Adj Close': 64.800003,\n",
       "  'Close': 64.800003,\n",
       "  'Date': '2018-10-16',\n",
       "  'High': 65.400002,\n",
       "  'Low': 64.599998,\n",
       "  'Open': 65.199997,\n",
       "  'Ticker': 5,\n",
       "  'Volume': 18497061},\n",
       " {'Adj Close': 64.550003,\n",
       "  'Close': 64.550003,\n",
       "  'Date': '2018-10-18',\n",
       "  'High': 64.800003,\n",
       "  'Low': 64.050003,\n",
       "  'Open': 64.800003,\n",
       "  'Ticker': 5,\n",
       "  'Volume': 26780608},\n",
       " {'Adj Close': 63.849998,\n",
       "  'Close': 63.849998,\n",
       "  'Date': '2018-10-19',\n",
       "  'High': 64.099998,\n",
       "  'Low': 63.099998,\n",
       "  'Open': 63.349998,\n",
       "  'Ticker': 5,\n",
       "  'Volume': 46898041},\n",
       " {'Adj Close': 64.349998,\n",
       "  'Close': 64.349998,\n",
       "  'Date': '2018-10-22',\n",
       "  'High': 64.400002,\n",
       "  'Low': 63.450001,\n",
       "  'Open': 63.549999,\n",
       "  'Ticker': 5,\n",
       "  'Volume': 26273240},\n",
       " {'Adj Close': 62.400002,\n",
       "  'Close': 62.400002,\n",
       "  'Date': '2018-10-23',\n",
       "  'High': 63.450001,\n",
       "  'Low': 62.400002,\n",
       "  'Open': 63.450001,\n",
       "  'Ticker': 5,\n",
       "  'Volume': 42301510},\n",
       " {'Adj Close': 61.599998,\n",
       "  'Close': 61.599998,\n",
       "  'Date': '2018-10-24',\n",
       "  'High': 62.549999,\n",
       "  'Low': 61.549999,\n",
       "  'Open': 62.049999,\n",
       "  'Ticker': 5,\n",
       "  'Volume': 35346106},\n",
       " {'Adj Close': 61.049999,\n",
       "  'Close': 61.049999,\n",
       "  'Date': '2018-10-25',\n",
       "  'High': 61.200001,\n",
       "  'Low': 60.400002,\n",
       "  'Open': 60.5,\n",
       "  'Ticker': 5,\n",
       "  'Volume': 38075667},\n",
       " {'Adj Close': 60.5,\n",
       "  'Close': 60.5,\n",
       "  'Date': '2018-10-26',\n",
       "  'High': 61.150002,\n",
       "  'Low': 60.349998,\n",
       "  'Open': 60.900002,\n",
       "  'Ticker': 5,\n",
       "  'Volume': 27990146},\n",
       " {'Adj Close': 63.549999,\n",
       "  'Close': 63.549999,\n",
       "  'Date': '2018-10-29',\n",
       "  'High': 64.0,\n",
       "  'Low': 60.650002,\n",
       "  'Open': 60.849998,\n",
       "  'Ticker': 5,\n",
       "  'Volume': 64952327},\n",
       " {'Adj Close': 63.150002,\n",
       "  'Close': 63.150002,\n",
       "  'Date': '2018-10-30',\n",
       "  'High': 64.0,\n",
       "  'Low': 63.049999,\n",
       "  'Open': 63.400002,\n",
       "  'Ticker': 5,\n",
       "  'Volume': 27445301},\n",
       " {'Adj Close': 64.400002,\n",
       "  'Close': 64.400002,\n",
       "  'Date': '2018-10-31',\n",
       "  'High': 64.400002,\n",
       "  'Low': 63.450001,\n",
       "  'Open': 63.5,\n",
       "  'Ticker': 5,\n",
       "  'Volume': 22025848},\n",
       " {'Adj Close': 65.050003,\n",
       "  'Close': 65.050003,\n",
       "  'Date': '2018-11-01',\n",
       "  'High': 65.400002,\n",
       "  'Low': 64.449997,\n",
       "  'Open': 64.5,\n",
       "  'Ticker': 5,\n",
       "  'Volume': 21014129},\n",
       " {'Adj Close': 66.400002,\n",
       "  'Close': 66.400002,\n",
       "  'Date': '2018-11-02',\n",
       "  'High': 66.75,\n",
       "  'Low': 65.300003,\n",
       "  'Open': 65.5,\n",
       "  'Ticker': 5,\n",
       "  'Volume': 43633166},\n",
       " {'Adj Close': 65.5,\n",
       "  'Close': 65.5,\n",
       "  'Date': '2018-11-05',\n",
       "  'High': 65.699997,\n",
       "  'Low': 65.099998,\n",
       "  'Open': 65.400002,\n",
       "  'Ticker': 5,\n",
       "  'Volume': 17100904},\n",
       " {'Adj Close': 66.050003,\n",
       "  'Close': 66.050003,\n",
       "  'Date': '2018-11-06',\n",
       "  'High': 66.449997,\n",
       "  'Low': 65.349998,\n",
       "  'Open': 65.75,\n",
       "  'Ticker': 5,\n",
       "  'Volume': 19930868},\n",
       " {'Adj Close': 65.949997,\n",
       "  'Close': 65.949997,\n",
       "  'Date': '2018-11-07',\n",
       "  'High': 66.650002,\n",
       "  'Low': 65.599998,\n",
       "  'Open': 65.650002,\n",
       "  'Ticker': 5,\n",
       "  'Volume': 25492921},\n",
       " {'Adj Close': 65.900002,\n",
       "  'Close': 65.900002,\n",
       "  'Date': '2018-11-08',\n",
       "  'High': 66.449997,\n",
       "  'Low': 65.75,\n",
       "  'Open': 66.199997,\n",
       "  'Ticker': 5,\n",
       "  'Volume': 13072384},\n",
       " {'Adj Close': 64.650002,\n",
       "  'Close': 64.650002,\n",
       "  'Date': '2018-11-09',\n",
       "  'High': 65.75,\n",
       "  'Low': 64.650002,\n",
       "  'Open': 65.5,\n",
       "  'Ticker': 5,\n",
       "  'Volume': 17284987}]"
      ]
     },
     "execution_count": 21,
     "metadata": {},
     "output_type": "execute_result"
    }
   ],
   "source": [
    "my_list"
   ]
  },
  {
   "cell_type": "code",
   "execution_count": 22,
   "metadata": {
    "collapsed": false
   },
   "outputs": [
    {
     "data": {
      "text/plain": [
       "{'Adj Close': 68.0,\n",
       " 'Close': 68.099998,\n",
       " 'Date': '2018-10-10',\n",
       " 'High': 68.449997,\n",
       " 'Low': 67.550003,\n",
       " 'Open': 67.550003,\n",
       " 'Ticker': 5,\n",
       " 'Volume': 22435246}"
      ]
     },
     "execution_count": 22,
     "metadata": {},
     "output_type": "execute_result"
    }
   ],
   "source": [
    "my_list[0]"
   ]
  },
  {
   "cell_type": "markdown",
   "metadata": {},
   "source": [
    "<h2>Write JSON</h2>"
   ]
  },
  {
   "cell_type": "code",
   "execution_count": 23,
   "metadata": {
    "collapsed": true
   },
   "outputs": [],
   "source": [
    "with open(\"test.json\", \"w\") as f:\n",
    "    json.dump(my_list, f)"
   ]
  },
  {
   "cell_type": "markdown",
   "metadata": {},
   "source": [
    "<h1>With Pandas</h1>\n",
    "<p>A better formatted structure- DataFrame. </p>\n",
    "<p>Easily combine to use with data analysis library such as visualiztion</p>"
   ]
  },
  {
   "cell_type": "code",
   "execution_count": 24,
   "metadata": {
    "collapsed": true
   },
   "outputs": [],
   "source": [
    "import pandas as pd"
   ]
  },
  {
   "cell_type": "code",
   "execution_count": 25,
   "metadata": {
    "collapsed": false
   },
   "outputs": [
    {
     "data": {
      "text/html": [
       "<div>\n",
       "<table border=\"1\" class=\"dataframe\">\n",
       "  <thead>\n",
       "    <tr style=\"text-align: right;\">\n",
       "      <th></th>\n",
       "      <th>Adj Close</th>\n",
       "      <th>Close</th>\n",
       "      <th>Date</th>\n",
       "      <th>High</th>\n",
       "      <th>Low</th>\n",
       "      <th>Open</th>\n",
       "      <th>Ticker</th>\n",
       "      <th>Volume</th>\n",
       "    </tr>\n",
       "  </thead>\n",
       "  <tbody>\n",
       "    <tr>\n",
       "      <th>0</th>\n",
       "      <td>68.000000</td>\n",
       "      <td>68.099998</td>\n",
       "      <td>2018-10-10</td>\n",
       "      <td>68.449997</td>\n",
       "      <td>67.550003</td>\n",
       "      <td>67.550003</td>\n",
       "      <td>5</td>\n",
       "      <td>22435246</td>\n",
       "    </tr>\n",
       "    <tr>\n",
       "      <th>1</th>\n",
       "      <td>66.050003</td>\n",
       "      <td>66.050003</td>\n",
       "      <td>2018-10-11</td>\n",
       "      <td>66.750000</td>\n",
       "      <td>66.000000</td>\n",
       "      <td>66.500000</td>\n",
       "      <td>5</td>\n",
       "      <td>39115421</td>\n",
       "    </tr>\n",
       "    <tr>\n",
       "      <th>2</th>\n",
       "      <td>66.050003</td>\n",
       "      <td>66.050003</td>\n",
       "      <td>2018-10-12</td>\n",
       "      <td>66.349998</td>\n",
       "      <td>65.349998</td>\n",
       "      <td>65.550003</td>\n",
       "      <td>5</td>\n",
       "      <td>39363868</td>\n",
       "    </tr>\n",
       "    <tr>\n",
       "      <th>3</th>\n",
       "      <td>64.750000</td>\n",
       "      <td>64.750000</td>\n",
       "      <td>2018-10-15</td>\n",
       "      <td>65.449997</td>\n",
       "      <td>64.699997</td>\n",
       "      <td>65.400002</td>\n",
       "      <td>5</td>\n",
       "      <td>39686626</td>\n",
       "    </tr>\n",
       "    <tr>\n",
       "      <th>4</th>\n",
       "      <td>64.800003</td>\n",
       "      <td>64.800003</td>\n",
       "      <td>2018-10-16</td>\n",
       "      <td>65.400002</td>\n",
       "      <td>64.599998</td>\n",
       "      <td>65.199997</td>\n",
       "      <td>5</td>\n",
       "      <td>18497061</td>\n",
       "    </tr>\n",
       "  </tbody>\n",
       "</table>\n",
       "</div>"
      ],
      "text/plain": [
       "   Adj Close      Close       Date       High        Low       Open  Ticker  \\\n",
       "0  68.000000  68.099998 2018-10-10  68.449997  67.550003  67.550003       5   \n",
       "1  66.050003  66.050003 2018-10-11  66.750000  66.000000  66.500000       5   \n",
       "2  66.050003  66.050003 2018-10-12  66.349998  65.349998  65.550003       5   \n",
       "3  64.750000  64.750000 2018-10-15  65.449997  64.699997  65.400002       5   \n",
       "4  64.800003  64.800003 2018-10-16  65.400002  64.599998  65.199997       5   \n",
       "\n",
       "     Volume  \n",
       "0  22435246  \n",
       "1  39115421  \n",
       "2  39363868  \n",
       "3  39686626  \n",
       "4  18497061  "
      ]
     },
     "execution_count": 25,
     "metadata": {},
     "output_type": "execute_result"
    }
   ],
   "source": [
    "df = pd.read_json(\"sample_json_data/0001_5years.json\")\n",
    "df.head()"
   ]
  },
  {
   "cell_type": "code",
   "execution_count": 26,
   "metadata": {
    "collapsed": true
   },
   "outputs": [],
   "source": [
    "%matplotlib inline"
   ]
  },
  {
   "cell_type": "code",
   "execution_count": 28,
   "metadata": {
    "collapsed": false
   },
   "outputs": [
    {
     "data": {
      "text/plain": [
       "<matplotlib.axes._subplots.AxesSubplot at 0x1150d8588>"
      ]
     },
     "execution_count": 28,
     "metadata": {},
     "output_type": "execute_result"
    },
    {
     "data": {
      "image/png": "[encoded data removed]",
      "text/plain": [
       "<matplotlib.figure.Figure at 0x112bad470>"
      ]
     },
     "metadata": {},
     "output_type": "display_data"
    }
   ],
   "source": [
    "df[[\"Open\", \"Close\"]].plot()"
   ]
  },
  {
   "cell_type": "code",
   "execution_count": 29,
   "metadata": {
    "collapsed": true
   },
   "outputs": [],
   "source": [
    "df.to_json(\"test.json\", orient=\"records\")"
   ]
  },
  {
   "cell_type": "code",
   "execution_count": null,
   "metadata": {
    "collapsed": true
   },
   "outputs": [],
   "source": []
  }
 ],
 "metadata": {
  "anaconda-cloud": {},
  "kernelspec": {
   "display_name": "Python [Root]",
   "language": "python",
   "name": "Python [Root]"
  },
  "language_info": {
   "codemirror_mode": {
    "name": "ipython",
    "version": 3
   },
   "file_extension": ".py",
   "mimetype": "text/x-python",
   "name": "python",
   "nbconvert_exporter": "python",
   "pygments_lexer": "ipython3",
   "version": "3.5.2"
  }
 },
 "nbformat": 4,
 "nbformat_minor": 2
}
